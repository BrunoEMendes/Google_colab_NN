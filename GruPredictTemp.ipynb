{
  "nbformat": 4,
  "nbformat_minor": 0,
  "metadata": {
    "colab": {
      "name": "GruPredictTemp.ipynb",
      "provenance": [],
      "collapsed_sections": [],
      "authorship_tag": "ABX9TyNXHrlKxD/7LSOwXjxmid38",
      "include_colab_link": true
    },
    "kernelspec": {
      "name": "python3",
      "display_name": "Python 3"
    }
  },
  "cells": [
    {
      "cell_type": "markdown",
      "metadata": {
        "id": "view-in-github",
        "colab_type": "text"
      },
      "source": [
        "<a href=\"https://colab.research.google.com/github/BrunoEMendes/Google_colab_NN/blob/master/GruPredictTemp.ipynb\" target=\"_parent\"><img src=\"https://colab.research.google.com/assets/colab-badge.svg\" alt=\"Open In Colab\"/></a>"
      ]
    },
    {
      "cell_type": "markdown",
      "metadata": {
        "id": "F_VNto6foZJu"
      },
      "source": [
        "# GRU PREDICT TEMPERATURE\r\n",
        "\r\n",
        "Dataset "
      ]
    },
    {
      "cell_type": "code",
      "metadata": {
        "id": "WbxcMwezoRd5"
      },
      "source": [
        "import datetime\r\n",
        "\r\n",
        "from matplotlib import pyplot\r\n",
        "\r\n",
        "import tensorflow as tf\r\n",
        "\r\n",
        "from keras.layers import Dense, Dropout\r\n",
        "from keras.layers.recurrent import LSTM, GRU\r\n",
        "from keras.models import Sequential\r\n",
        "\r\n",
        "from pandas import read_csv\r\n",
        "\r\n",
        "import numpy as np\r\n",
        "import pandas as pd\r\n",
        "import matplotlib.pyplot as plt\r\n",
        "\r\n",
        "\r\n",
        "from sklearn.preprocessing import MinMaxScaler\r\n",
        "from sklearn.model_selection import train_test_split\r\n"
      ],
      "execution_count": null,
      "outputs": []
    }
  ]
}